{
 "cells": [
  {
   "cell_type": "code",
   "execution_count": 1,
   "metadata": {},
   "outputs": [
    {
     "name": "stderr",
     "output_type": "stream",
     "text": [
      "/home/waleed_daud_wd/CondaEnvs/opensimEnv_V2/lib/python3.6/site-packages/gym/__init__.py:15: UserWarning: gym.undo_logger_setup is deprecated. gym no longer modifies the global logging configuration\n",
      "  warnings.warn(\"gym.undo_logger_setup is deprecated. gym no longer modifies the global logging configuration\")\n"
     ]
    },
    {
     "name": "stdout",
     "output_type": "stream",
     "text": [
      "\u001b[33mWARN: gym.spaces.Box autodetected dtype as <class 'numpy.float32'>. Please provide explicit dtype.\u001b[0m\n",
      "\u001b[33mWARN: gym.spaces.Box autodetected dtype as <class 'numpy.float32'>. Please provide explicit dtype.\u001b[0m\n",
      "\u001b[33mWARN: Could not seed environment <ProstheticsEnv<0>>\u001b[0m\n"
     ]
    },
    {
     "name": "stderr",
     "output_type": "stream",
     "text": [
      "/home/waleed_daud_wd/CondaEnvs/opensimEnv_V2/lib/python3.6/site-packages/gym/__init__.py:15: UserWarning: gym.undo_logger_setup is deprecated. gym no longer modifies the global logging configuration\n",
      "  warnings.warn(\"gym.undo_logger_setup is deprecated. gym no longer modifies the global logging configuration\")\n"
     ]
    }
   ],
   "source": [
    "# Import helper libraries\n",
    "from __future__ import print_function\n",
    "from __future__ import unicode_literals\n",
    "from __future__ import division\n",
    "from __future__ import absolute_import\n",
    "from future import standard_library\n",
    "standard_library.install_aliases()  # NOQA\n",
    "import argparse\n",
    "import logging\n",
    "import sys\n",
    "\n",
    "#___________________________________________________________________\n",
    "# Import scientific libraries\n",
    "\n",
    "import numpy as np               # Numpy, a good library to deal with matrices in python.\n",
    "import matplotlib.pyplot as plt  # Matplotlib, a good library for plotting in python.\n",
    "from matplotlib import style\n",
    "#___________________________________________________________________\n",
    "\n",
    "\n",
    "import gym                       # Gym, a collection of RL environemnts.\n",
    "gym.undo_logger_setup()  # NOQA\n",
    "from gym import spaces\n",
    "import gym.wrappers\n",
    "\n",
    "from osim.env import ProstheticsEnv   # Open simulator (OSIM), an open source simnulation for biomechanical modeling.\n",
    "\n",
    "#___________________________________________________________________\n",
    "\n",
    "\n",
    "\n",
    "import tensorflow as tf                      # Tensorflow, a deep learning library.\n",
    "import chainer                               # Chainer, a python-based deep learning framework. Chainerrl, a reinforcement learning library based on chainer framework.\n",
    "from chainer import optimizers               # a collection of Neural Network optimizers.\n",
    "from chainerrl.agents.ddpg import DDPG       # a DDPG agent\n",
    "from chainerrl.agents.ddpg import DDPGModel  # a DDPG model, responsibles to combine the policy network and the value function network.\n",
    "from chainerrl import explorers              # a collection of explores functions.\n",
    "from chainerrl import misc                   # a collection of utility functions to manipulate the environemnts.\n",
    "from chainerrl import policy                 # a policy network\n",
    "from chainerrl import q_functions            # a value function network\n",
    "from chainerrl import replay_buffer          # a Replay buffer to store a set of observations for the DDPG agent.\n",
    "\n",
    "\n",
    "from ExpertAgents import ExpertDDPGAgent\n",
    "style.use('ggplot')"
   ]
  },
  {
   "cell_type": "markdown",
   "metadata": {},
   "source": [
    "# A set of helper functions "
   ]
  },
  {
   "cell_type": "code",
   "execution_count": 2,
   "metadata": {},
   "outputs": [],
   "source": [
    "# Helper's functions\n",
    "\n",
    "def clip_action_filter(a):\n",
    "    \"\"\" limit the an action value between the higest and lowest values in action space.\n",
    "    Input: a\n",
    "    Output: clipped action\n",
    "    \"\"\"\n",
    "    return np.clip(a, action_space.low, action_space.high)\n",
    "\n",
    "def reward_filter(r):\n",
    "    \"\"\" Scale the reward value.\n",
    "    Input: reward (r)\n",
    "    Output: scaled reward\n",
    "    \"\"\"\n",
    "    return r *1 #1e-2\n",
    "\n",
    "\n",
    "def phi(obs):\n",
    "    \"\"\" Convert the data type of the observation to float-32\n",
    "    Input: observation (obs)\n",
    "    Output:  the processed observation \n",
    "    \"\"\" \n",
    "    obs=np.array(obs)\n",
    "    return obs.astype(np.float32)\n",
    "\n",
    "\n",
    "def random_action():\n",
    "    \"\"\" Generate a random action.\n",
    "    Input: None\n",
    "    Output:  a random action\n",
    "    \"\"\" \n",
    "    a = action_space.sample()\n",
    "    if isinstance(a, np.ndarray):\n",
    "        a = a.astype(np.float32)\n",
    "    return a\n",
    "\n",
    "\n",
    "def make_env(test,render=False):\n",
    "    \n",
    "    \"\"\" Create an instance from \"ProstheticEnv\" environment\n",
    "    Input: a boolean value to show if it's an agent training experiment or test experiment (test)\n",
    "    Output:  \"ProstheticEnv\" environment (env)\n",
    "    \"\"\" \n",
    "        \n",
    "    env = ProstheticsEnv(visualize=render)\n",
    "    # Use different random seeds for train and test envs\n",
    "    env_seed = 2 ** 32 - 1 - seed if test else seed\n",
    "    env.seed(env_seed)\n",
    "    #if args.monitor:\n",
    "        #env = gym.wrappers.Monitor(env, args.outdir)\n",
    "    if isinstance(env.action_space, spaces.Box):\n",
    "        misc.env_modifiers.make_action_filtered(env, clip_action_filter)\n",
    "    if not test:\n",
    "        misc.env_modifiers.make_reward_filtered(env, reward_filter)\n",
    "    if render and not test:\n",
    "        misc.env_modifiers.make_rendered(env)\n",
    "    return env"
   ]
  },
  {
   "cell_type": "code",
   "execution_count": 3,
   "metadata": {},
   "outputs": [],
   "source": [
    "seed=0"
   ]
  },
  {
   "cell_type": "markdown",
   "metadata": {},
   "source": [
    "# Set up the environment."
   ]
  },
  {
   "cell_type": "code",
   "execution_count": 4,
   "metadata": {},
   "outputs": [
    {
     "name": "stdout",
     "output_type": "stream",
     "text": [
      "\u001b[33mWARN: gym.spaces.Box autodetected dtype as <class 'numpy.float32'>. Please provide explicit dtype.\u001b[0m\n",
      "\u001b[33mWARN: gym.spaces.Box autodetected dtype as <class 'numpy.float32'>. Please provide explicit dtype.\u001b[0m\n",
      "\u001b[33mWARN: Could not seed environment <ProstheticsEnv<0>>\u001b[0m\n"
     ]
    }
   ],
   "source": [
    "# Setup the environment\n",
    "env = make_env(test=False,render=False)\n",
    "#timestep_limit = env.spec.tags.get('wrapper_config.TimeLimit.max_episode_steps')\n",
    "obs_size = np.asarray(env.observation_space.shape).prod()\n",
    "action_space = env.action_space\n",
    "action_size = np.asarray(action_space.shape).prod()"
   ]
  },
  {
   "cell_type": "code",
   "execution_count": 5,
   "metadata": {},
   "outputs": [],
   "source": [
    "# Load the Expert agent.\n",
    "load_expert_DDPG=ExpertDDPGAgent(path=\"Models/Model\")\n",
    "expert=load_expert_DDPG.load_agent()"
   ]
  },
  {
   "cell_type": "code",
   "execution_count": 6,
   "metadata": {},
   "outputs": [],
   "source": [
    "number_of_episodes=50                     # Number of episodes\n",
    "max_episode_length=1000                   # Max Number of timestep per episode."
   ]
  },
  {
   "cell_type": "code",
   "execution_count": null,
   "metadata": {},
   "outputs": [
    {
     "name": "stdout",
     "output_type": "stream",
     "text": [
      "episode:  0\n",
      "episode:  1\n",
      "episode:  2\n"
     ]
    }
   ],
   "source": [
    "# STEP 1: Generate Data using Expert.\n",
    "\n",
    "returns = []\n",
    "observations = []\n",
    "actions = []\n",
    "for i in range(number_of_episodes):\n",
    "    print('episode: ', i)\n",
    "    obs = env.reset()\n",
    "    done = False\n",
    "    G = 0.\n",
    "    steps = 0\n",
    "    while not done:\n",
    "        action = expert.act(obs)     # get an action from the expert policy.\n",
    "        \n",
    "        observations.append(obs)     # save the observation\n",
    "        actions.append(action)       # save the action\n",
    "        \n",
    "        obs, r, done, _ = env.step(action)\n",
    "        G += r\n",
    "        steps += 1\n",
    "        \n",
    "        if steps % 100 == 0: print(\"%i/%i\" % (steps, max_episode_length))\n",
    "        if steps >= max_episode_length:\n",
    "            break\n",
    "    returns.append(G)                #save the return of each episode\n",
    "    \n",
    "print('returns', returns)\n",
    "print('mean return', np.mean(returns))\n",
    "print('std of return', np.std(returns))"
   ]
  },
  {
   "cell_type": "code",
   "execution_count": null,
   "metadata": {},
   "outputs": [],
   "source": [
    "# pass observations, actions to the imitation learning algorithm.\n",
    "obs_data = np.squeeze(np.array(observations))\n",
    "act_data = np.squeeze(np.array(actions))"
   ]
  },
  {
   "cell_type": "code",
   "execution_count": null,
   "metadata": {},
   "outputs": [],
   "source": [
    "# Save the observations and actions of the expert policy.\n",
    "np.savetxt('Datasets/obs_data_dagger.txt', obs_data, fmt='%f')\n",
    "np.savetxt('Datasets/act_data_dagger.txt', obs_data, fmt='%f')"
   ]
  },
  {
   "cell_type": "markdown",
   "metadata": {},
   "source": [
    "# Build the policy network for the target agent."
   ]
  },
  {
   "cell_type": "code",
   "execution_count": 1,
   "metadata": {},
   "outputs": [],
   "source": [
    "#===========================================================================\n",
    "# Build the policy network for the Target agent.\n",
    "#==========================================================================="
   ]
  },
  {
   "cell_type": "code",
   "execution_count": null,
   "metadata": {},
   "outputs": [],
   "source": [
    "obs_dim = obs_data.shape[1]\n",
    "act_dim = act_data.shape[1]"
   ]
  },
  {
   "cell_type": "code",
   "execution_count": null,
   "metadata": {},
   "outputs": [],
   "source": [
    "# Architecture of the target policy function\n",
    "\n",
    "x = tf.placeholder(tf.float32, shape=[None, obs_dim])\n",
    "yhot = tf.placeholder(tf.float32, shape=[None, act_dim])\n",
    "    \n",
    "h1 = tf.layers.dense(inputs=x, units=128, activation=tf.nn.relu)\n",
    "h2 = tf.layers.dense(inputs=h1, units=64, activation=tf.nn.relu)\n",
    "h3 = tf.layers.dense(inputs=h2, units=32, activation=tf.nn.relu)\n",
    "yhat = tf.layers.dense(inputs=h3, units=act_dim, activation=None)\n",
    "yhat= tf.squeeze(yhat)\n",
    "    \n",
    "loss = tf.reduce_mean(tf.square(yhot - yhat))\n",
    "train = tf.train.AdamOptimizer().minimize(loss)\n",
    "\n",
    "# Saver object to save the model\n",
    "saver = tf.train.Saver()"
   ]
  },
  {
   "cell_type": "markdown",
   "metadata": {},
   "source": [
    "# Train the target agent"
   ]
  },
  {
   "cell_type": "code",
   "execution_count": null,
   "metadata": {},
   "outputs": [],
   "source": [
    "# train The target network\n",
    "number_of_iterations=100\n",
    "batch_size = 25\n",
    "\n",
    "# Metrices\n",
    "\n",
    "global_mean_G=[]"
   ]
  },
  {
   "cell_type": "code",
   "execution_count": null,
   "metadata": {},
   "outputs": [],
   "source": [
    "#___________ STEP 2: Train the target agent with the data that collected by the expert agent. ____________\n",
    "\n",
    "with tf.Session() as sess:\n",
    "    sess.run(tf.global_variables_initializer())\n",
    "    # record return and std for plotting\n",
    "    save_mean = []\n",
    "    save_std = []\n",
    "    save_train_size = []\n",
    "    #loop for dagger alg\n",
    "    \n",
    "    for dagger_iter in range(number_of_iterations):\n",
    "        print ('DAgger iteration ', dagger_iter)\n",
    "        \n",
    "        # train a policy by fitting the MLP\n",
    "        for step in range(10000):\n",
    "            batch_i = np.random.randint(0, obs_data.shape[0], size=batch_size)\n",
    "            train.run(feed_dict={x: obs_data[batch_i, ], yhot: act_data[batch_i, ]})\n",
    "            if (step % 1000 == 0):\n",
    "                print ('opmization step ', step)\n",
    "                print ('obj value is ', loss.eval(feed_dict={x:obs_data, yhot:act_data}) )        \n",
    "                \n",
    "        print('Optimization Finished!')\n",
    "        \n",
    "        # save naive agent\n",
    "        saver.save(sess, 'NaiveAgents/Model_V1/naive_agent-dagger',global_step=1000,write_meta_graph=False)\n",
    "\n",
    "\n",
    "#______________________ STEP 3: Generate data using target Agent. ________________________\n",
    "        \n",
    "        \n",
    "        returns = []\n",
    "        observations = []\n",
    "        actions = []\n",
    "        for i in range(number_of_episodes):\n",
    "            print('iter', i)\n",
    "            obs = env.reset()\n",
    "            done = False\n",
    "            G = 0.\n",
    "            steps = 0\n",
    "            while not done:\n",
    "                #print(obs)\n",
    "                obs=np.array(obs)\n",
    "                action = yhat.eval(feed_dict={x:obs[None, :]})          # Sample an action using the target policy.\n",
    "                observations.append(obs)                                # Save the observation in \"observations\" list.\n",
    "                actions.append(action)                                  # Save the action in \"actions\" list.\n",
    "                \n",
    "                obs, r, done, _ = env.step(action)\n",
    "                G += r\n",
    "                steps += 1   \n",
    "                if steps % 100 == 0: print(\"%i/%i\" % (steps, max_episode_length))\n",
    "                if steps >= max_episode_length:\n",
    "                    break\n",
    "            returns.append(G)\n",
    "            \n",
    "        global_mean_G.append(np.mean(returns))\n",
    "        \n",
    "# ______________________ Save the Returns over the episodes ____________________________      \n",
    "        \n",
    "        if dagger_iter%10==0:\n",
    "            \n",
    "            global_mean_G_numpy=np.array(global_mean_G)\n",
    "            np.savetxt('Variables/global_mean_G_dagger.txt', global_mean_G_numpy , fmt='%f')\n",
    "            \n",
    "        print('mean return', np.mean(returns))\n",
    "        print('std of return', np.std(returns))\n",
    "            \n",
    "            \n",
    "#_________________________ STEP 4: Expert labeling ____________________________________\n",
    "            \n",
    "        corrected_act = []\n",
    "        for i_label in range(len(observations)):\n",
    "            corrected_act.append(expert.act(observations[i_label]))                     # replace the target action with the expert action.\n",
    "        # record training size\n",
    "        train_size = obs_data.shape[0]\n",
    "        \n",
    "#_________________________ STEP 5: data aggregation _____________________________________\n",
    "        \n",
    "        obs_data = np.concatenate((obs_data, np.array(observations)), axis=0)\n",
    "        act_data = np.concatenate((act_data, np.squeeze(np.array(corrected_act))), axis=0)      # concatenate the the expert data ( observations + actions ) with target data.        \n",
    "       \n",
    "    \n",
    "        # record mean return & std\n",
    "        save_mean = np.append(save_mean, np.mean(returns))\n",
    "        save_std = np.append(save_std, np.std(returns))\n",
    "        save_train_size = np.append(save_train_size, train_size)\n",
    "        \n",
    "    dagger_results = {'means': save_mean, 'stds': save_std, 'train_size': save_train_size,}\n",
    "    \n",
    "    print ('DAgger iterations finished!')\n"
   ]
  },
  {
   "cell_type": "code",
   "execution_count": 17,
   "metadata": {},
   "outputs": [],
   "source": [
    "# Save the Mean of the Returns.\n",
    "global_mean_G=np.array(global_mean_G)\n",
    "np.savetxt('Variables/global_mean_G_dagger.txt', global_mean_G , fmt='%f')"
   ]
  },
  {
   "cell_type": "code",
   "execution_count": 18,
   "metadata": {},
   "outputs": [
    {
     "data": {
      "image/png": "[encoded data removed]",
      "text/plain": [
       "<Figure size 432x288 with 1 Axes>"
      ]
     },
     "metadata": {},
     "output_type": "display_data"
    }
   ],
   "source": [
    "plt.plot(global_mean_G)\n",
    "plt.ylabel('Average of Returns')\n",
    "plt.xlabel('Number of iterations')\n",
    "plt.savefig(\"Plots/Average_of_Returns_iterations_dagger.png\")"
   ]
  },
  {
   "cell_type": "code",
   "execution_count": null,
   "metadata": {},
   "outputs": [],
   "source": [
    "print(global_mean_G)"
   ]
  },
  {
   "cell_type": "code",
   "execution_count": null,
   "metadata": {},
   "outputs": [],
   "source": []
  }
 ],
 "metadata": {
  "kernelspec": {
   "display_name": "Python|RL",
   "language": "python",
   "name": "rl"
  },
  "language_info": {
   "codemirror_mode": {
    "name": "ipython",
    "version": 3
   },
   "file_extension": ".py",
   "mimetype": "text/x-python",
   "name": "python",
   "nbconvert_exporter": "python",
   "pygments_lexer": "ipython3",
   "version": "3.5.6"
  }
 },
 "nbformat": 4,
 "nbformat_minor": 2
}
